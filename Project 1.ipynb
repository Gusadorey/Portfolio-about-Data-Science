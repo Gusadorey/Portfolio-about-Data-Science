{
 "cells": [
  {
   "cell_type": "markdown",
   "id": "ebc7de7e",
   "metadata": {},
   "source": [
    "# Mi first project using jupyter notebook ! "
   ]
  },
  {
   "cell_type": "markdown",
   "id": "1f1f7fcf",
   "metadata": {},
   "source": [
    "## Introduction"
   ]
  },
  {
   "cell_type": "markdown",
   "id": "27534a6a",
   "metadata": {},
   "source": [
    "### Data science languages \n",
    "\n",
    "\n",
    "#### Python\n",
    "#### R\n",
    "#### Scala\n",
    "#### Go\n",
    "#### Javascript\n",
    "#### C++\n",
    "#### Matlab\n"
   ]
  },
  {
   "cell_type": "markdown",
   "id": "df45d335",
   "metadata": {},
   "source": [
    "### Libraries for Data Science in Python and R\n",
    "\n",
    "##### Python\n",
    "\n",
    "##### Tensor Flow\n",
    "##### Pandas\n",
    "##### SciPy\n",
    "##### Matplotlib\n",
    "##### NumPy.\n",
    "##### Keras\n",
    "##### Scikit-Learn\n",
    "##### Pytorch\n",
    "\n",
    "#### R\n",
    "\n",
    "##### readr\n",
    "##### stringr\n",
    "##### ggplot2\n",
    "##### lubridate\n",
    "##### jsonlite\n",
    "##### tydir\n",
    "##### tydiverse\n",
    "##### shiny"
   ]
  },
  {
   "cell_type": "markdown",
   "id": "1f8a5c74",
   "metadata": {},
   "source": [
    "### Main tools for Data Science\n",
    "\n",
    "##### Hadoop\n",
    "##### SaS\n",
    "##### Tableau\n",
    "##### Tensorflow\n",
    "##### DataRobot\n",
    "##### BigMl\n",
    "##### Apache Spark\n",
    "##### RapidMiner\n",
    "##### PyCharm\n",
    "##### Spyder\n",
    "##### Git"
   ]
  },
  {
   "cell_type": "code",
   "execution_count": 5,
   "id": "2bcb9dc3",
   "metadata": {},
   "outputs": [
    {
     "name": "stdout",
     "output_type": "stream",
     "text": [
      "-5\n",
      "15\n",
      "50\n",
      "0.5\n",
      "9765625\n"
     ]
    }
   ],
   "source": [
    "# Examples about arithmetic expressions\n",
    "\n",
    "a = 5\n",
    "b = 10\n",
    "\n",
    "print(a-b)\n",
    "print(a+b)\n",
    "print(a*b)\n",
    "print(a/b)\n",
    "print(a**b)"
   ]
  },
  {
   "cell_type": "code",
   "execution_count": 6,
   "id": "3b6a8b75",
   "metadata": {},
   "outputs": [
    {
     "name": "stdout",
     "output_type": "stream",
     "text": [
      "insert the first number: 10\n",
      "insert the second number: 15\n",
      "150\n",
      "25\n"
     ]
    }
   ],
   "source": [
    "# Example 8 \n",
    "\n",
    "a = int(input( \"insert the first number: \"))\n",
    "b = int(input( \"insert the second number: \"))\n",
    "\n",
    "print(a*b)\n",
    "print(a+b)"
   ]
  },
  {
   "cell_type": "code",
   "execution_count": 14,
   "id": "0e604e1a",
   "metadata": {},
   "outputs": [
    {
     "name": "stdout",
     "output_type": "stream",
     "text": [
      "Insert the minutes for convert to hours: 20\n",
      "0.33\n"
     ]
    }
   ],
   "source": [
    "# Excercise 9 \n",
    "\n",
    "minutes_to_hour = 1/60\n",
    "\n",
    "insert_minutes = int(input(\"Insert the minutes for convert to hours: \"))\n",
    "\n",
    "print(round(insert_minutes * minutes_to_hour,2))"
   ]
  },
  {
   "cell_type": "markdown",
   "id": "1e7b35d8",
   "metadata": {},
   "source": [
    "## Objectives"
   ]
  },
  {
   "cell_type": "markdown",
   "id": "d22f60d4",
   "metadata": {},
   "source": [
    "### I think main objectives are the following: \n",
    "#### * Practice code in python using jupyter.\n",
    "#### * Using markdown, code and math operations using python."
   ]
  },
  {
   "cell_type": "markdown",
   "id": "27915486",
   "metadata": {},
   "source": [
    "## Author\n",
    "\n",
    "#### Gustavo Adolfo Reyes Medina"
   ]
  }
 ],
 "metadata": {
  "kernelspec": {
   "display_name": "Python 3",
   "language": "python",
   "name": "python3"
  },
  "language_info": {
   "codemirror_mode": {
    "name": "ipython",
    "version": 3
   },
   "file_extension": ".py",
   "mimetype": "text/x-python",
   "name": "python",
   "nbconvert_exporter": "python",
   "pygments_lexer": "ipython3",
   "version": "3.8.8"
  }
 },
 "nbformat": 4,
 "nbformat_minor": 5
}
